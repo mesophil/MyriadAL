{
 "cells": [
  {
   "cell_type": "code",
   "execution_count": 11,
   "id": "964591f1-5edc-4811-bc58-7266615a01dd",
   "metadata": {},
   "outputs": [],
   "source": [
    "import numpy as np\n",
    "import torch.nn as nn\n",
    "import torch.optim as optim\n",
    "from torch.utils.data import DataLoader\n",
    "from datetime import datetime\n",
    "\n",
    "import torchvision\n",
    "import torchvision.transforms\n",
    "\n",
    "from sklearn.cluster import KMeans\n",
    "\n"
   ]
  },
  {
   "cell_type": "code",
   "execution_count": 21,
   "id": "51bf9573-4177-4ff3-95be-90fe008e9227",
   "metadata": {},
   "outputs": [
    {
     "name": "stdout",
     "output_type": "stream",
     "text": [
      "[7 1 6 9 5 0 3 8 4 2]\n"
     ]
    }
   ],
   "source": [
    "x = np.arange(10)\n",
    "\n",
    "np.random.shuffle(x)\n",
    "print(x)"
   ]
  },
  {
   "cell_type": "code",
   "execution_count": 23,
   "id": "009b1ac0-bf33-413c-b87a-817c565dbb5e",
   "metadata": {},
   "outputs": [
    {
     "name": "stdout",
     "output_type": "stream",
     "text": [
      "[0, 3, 6, 9]\n"
     ]
    }
   ],
   "source": [
    "step = len(x)//5 + 1\n",
    "\n",
    "arg = np.argsort(x)\n",
    "\n",
    "test = list(x[arg][::step])\n",
    "\n",
    "print(test)"
   ]
  },
  {
   "cell_type": "code",
   "execution_count": 27,
   "id": "5e7b9ee4-8f57-4c0d-8053-708b8275a741",
   "metadata": {},
   "outputs": [
    {
     "name": "stdout",
     "output_type": "stream",
     "text": [
      "[0 2 4 6 8]\n"
     ]
    }
   ],
   "source": [
    "test2 = []\n",
    "loc = 0\n",
    "\n",
    "splits = np.array_split(arg, 5)\n",
    "\n",
    "for split in splits:\n",
    "    test2.append(split[loc])\n",
    "    \n",
    "print(x[test2])"
   ]
  },
  {
   "cell_type": "code",
   "execution_count": null,
   "id": "8335a465-71e9-4841-9618-cf4c80484cd3",
   "metadata": {},
   "outputs": [],
   "source": []
  }
 ],
 "metadata": {
  "kernelspec": {
   "display_name": "Python 3 (ipykernel)",
   "language": "python",
   "name": "python3"
  },
  "language_info": {
   "codemirror_mode": {
    "name": "ipython",
    "version": 3
   },
   "file_extension": ".py",
   "mimetype": "text/x-python",
   "name": "python",
   "nbconvert_exporter": "python",
   "pygments_lexer": "ipython3",
   "version": "3.9.7"
  }
 },
 "nbformat": 4,
 "nbformat_minor": 5
}
